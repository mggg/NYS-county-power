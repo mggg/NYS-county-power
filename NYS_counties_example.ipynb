{
 "cells": [
  {
   "cell_type": "code",
   "execution_count": 1,
   "metadata": {},
   "outputs": [],
   "source": [
    "import numpy as np\n",
    "\n",
    "m = np.array([6945,4158,2322,10242,1464,2087,4156,7508,4452,5341,2695,725,765,1583,2292,1157,3187]) /61079\n",
    "u = np.array([568, 352, 198, 785, 126, 179, 352, 610, 375, 447, 230, 62, 67, 136, 196, 101, 270]) / 5054\n",
    "u_old = np.array([224,137,80,308,49,72,139,242,144,177,99,26,29,53,79,41,110])/2009\n",
    "p_report = np.array([.1136,.0681,.0380,.1677,.0240,.0342,.0681,.1227,.0728,.0875,.0441,.0119,.0125,.0260,.0375,.0191,.0522])\n"
   ]
  },
  {
   "cell_type": "code",
   "execution_count": 2,
   "metadata": {},
   "outputs": [
    {
     "name": "stdout",
     "output_type": "stream",
     "text": [
      "65536\n"
     ]
    }
   ],
   "source": [
    "import itertools\n",
    "numtowns = len(m)\n",
    "A = set(range(numtowns))\n",
    "A_subsets = []\n",
    "for i in range(len(A) + 1):\n",
    "  for subset in itertools.combinations(A, i):\n",
    "    if 1 in subset:\n",
    "      A_subsets.append(set(subset))\n",
    "\n",
    "print(len(A_subsets))\n"
   ]
  },
  {
   "cell_type": "code",
   "execution_count": 3,
   "metadata": {},
   "outputs": [
    {
     "name": "stdout",
     "output_type": "stream",
     "text": [
      "[0.0696478  0.18203403 0.10882469 ... 0.96082311 0.88761377 1.        ]\n"
     ]
    }
   ],
   "source": [
    "a = np.zeros(len(A_subsets))\n",
    "for j in range(len(A_subsets)):\n",
    "  tot=0\n",
    "  for i in A_subsets[j]:\n",
    "    tot=tot+u[i]\n",
    "  a[j]=tot\n",
    "\n",
    "print(a)"
   ]
  },
  {
   "cell_type": "code",
   "execution_count": 4,
   "metadata": {},
   "outputs": [
    {
     "name": "stdout",
     "output_type": "stream",
     "text": [
      "177600.0\n"
     ]
    }
   ],
   "source": [
    "T = 1/2\n",
    "X = np.zeros((numtowns,len(A_subsets)))\n",
    "p = np.zeros(numtowns)\n",
    "\n",
    "for j in range(len(A_subsets)):\n",
    "  for i in range(numtowns):\n",
    "    if i in A_subsets[j] and u[i]> a[j]-T and a[j]>T :\n",
    "      X[i,j]=1\n",
    "    if i not in A_subsets[j] and u[i]> 1-a[j]-T and 1-a[j]>T:\n",
    "      X[i,j]=1\n",
    "\n",
    "\n",
    "for i in range(numtowns):\n",
    "    p[i]=np.sum(X[i])/np.sum(X)\n",
    "\n",
    "print(np.sum(X))"
   ]
  },
  {
   "cell_type": "code",
   "execution_count": 5,
   "metadata": {},
   "outputs": [
    {
     "name": "stdout",
     "output_type": "stream",
     "text": [
      "m= [0.1137052  0.06807577 0.03801634 0.16768447 0.02396896 0.03416886\n",
      " 0.06804303 0.12292277 0.07288921 0.08744413 0.04412318 0.01186987\n",
      " 0.01252476 0.02591725 0.03752517 0.01894268 0.05217833]\n",
      "u= [0.11238623 0.0696478  0.03917689 0.15532252 0.02493075 0.03541749\n",
      " 0.0696478  0.12069648 0.07419865 0.0884448  0.04550851 0.01226751\n",
      " 0.01325683 0.02690938 0.03878116 0.01998417 0.05342303]\n",
      "p= [0.11360923 0.06806306 0.03783221 0.1679223  0.02401464 0.0343018\n",
      " 0.06813626 0.12282658 0.0729223  0.08765203 0.04401464 0.0117286\n",
      " 0.01246622 0.02600788 0.03750563 0.01896396 0.05203266]\n",
      "p_report= [0.1136 0.0681 0.038  0.1677 0.024  0.0342 0.0681 0.1227 0.0728 0.0875\n",
      " 0.0441 0.0119 0.0125 0.026  0.0375 0.0191 0.0522]\n",
      "diff = [-0.0001 -0.     -0.0002  0.0002  0.      0.0001  0.0001 -0.0001  0.\n",
      "  0.0002 -0.0001 -0.0001 -0.0001  0.0001 -0.      0.     -0.0001]\n",
      "L1 for diff= 0.0017251498539256876\n",
      "range for diff= 0.0004219553793056996\n"
     ]
    }
   ],
   "source": [
    "print('m=',m)\n",
    "print('u=',u)\n",
    "print('p=',p)\n",
    "print('p_report=',p_report)\n",
    "\n",
    "diff = (p-m)\n",
    "\n",
    "#ratiodiffpercents = np.zeros(numtowns)\n",
    "#for i in range(numtowns):\n",
    "#  ratiodiffpercents[i] = 100*diff[i]/m[i]\n",
    "\n",
    "print('diff =', np.around(diff,4))\n",
    "#print('ratiodiffpercents =', np.around(ratiodiffpercents,4))\n",
    "\n",
    "l1_norm_diff = np.linalg.norm(diff, ord=1)\n",
    "#l1_norm_ratiodiffpercents = np.linalg.norm(ratiodiffpercents, ord=1)\n",
    "\n",
    "print( 'L1 for diff=',l1_norm_diff)\n",
    "#print( 'L1 for ratiodiffpercents=',l1_norm_ratiodiffpercents)\n",
    "\n",
    "range_diff = np.max(diff) - np.min(diff)\n",
    "#range_ratiodiffpercents = np.max(diff) - np.min(ratiodiffpercents)\n",
    "\n",
    "\n",
    "print('range for diff=',range_diff)\n",
    "#print('range for ratiodiffpercents=',range_ratiodiffpercents"
   ]
  }
 ],
 "metadata": {
  "kernelspec": {
   "display_name": "Python 3",
   "language": "python",
   "name": "python3"
  },
  "language_info": {
   "codemirror_mode": {
    "name": "ipython",
    "version": 3
   },
   "file_extension": ".py",
   "mimetype": "text/x-python",
   "name": "python",
   "nbconvert_exporter": "python",
   "pygments_lexer": "ipython3",
   "version": "3.12.5"
  }
 },
 "nbformat": 4,
 "nbformat_minor": 2
}

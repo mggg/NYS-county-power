{
 "cells": [
  {
   "cell_type": "code",
   "execution_count": 32,
   "metadata": {},
   "outputs": [],
   "source": [
    "import numpy as np\n",
    "\n",
    "m = np.array([6945,4158,2322,10242,1464,2087,4156,7508,4452,5341,2695,725,765,1583,2292,1157,3187])\n",
    "u = np.array([568, 352, 198, 785, 126, 179, 352, 610, 375, 447, 230, 62, 67, 136, 196, 101, 270])\n",
    "p_report = np.array([.1136,.0681,.0380,.1677,.0240,.0342,.0681,.1227,.0728,.0875,.0441,.0119,.0125,.0260,.0375,.0191,.0522])\n",
    "\n",
    "\n",
    "m = m/m.sum()"
   ]
  },
  {
   "cell_type": "code",
   "execution_count": 33,
   "metadata": {},
   "outputs": [
    {
     "name": "stdout",
     "output_type": "stream",
     "text": [
      "65536\n"
     ]
    }
   ],
   "source": [
    "import itertools\n",
    "numtowns = len(m)\n",
    "A = set(range(numtowns))\n",
    "A_subsets = []\n",
    "\n",
    "\n",
    "# Note: We assume that one town, in particular, always votes in the affirmative\n",
    "for i in range(len(A) + 1):\n",
    "  for subset in itertools.combinations(A, i):\n",
    "    if 1 in subset:\n",
    "      A_subsets.append(set(subset))\n",
    "\n",
    "print(len(A_subsets))\n"
   ]
  },
  {
   "cell_type": "code",
   "execution_count": 34,
   "metadata": {},
   "outputs": [
    {
     "name": "stdout",
     "output_type": "stream",
     "text": [
      "[ 352.  920.  550. ... 4856. 4486. 5054.]\n"
     ]
    }
   ],
   "source": [
    "a = np.zeros(len(A_subsets))\n",
    "for j in range(len(A_subsets)):\n",
    "  tot=0\n",
    "  for i in A_subsets[j]:\n",
    "    tot=tot+u[i]\n",
    "  a[j]=tot\n",
    "\n",
    "print(a)"
   ]
  },
  {
   "cell_type": "code",
   "execution_count": 35,
   "metadata": {},
   "outputs": [
    {
     "name": "stdout",
     "output_type": "stream",
     "text": [
      "177927.0\n"
     ]
    }
   ],
   "source": [
    "T = (1/2) * u.sum()\n",
    "X = np.zeros((numtowns,len(A_subsets)))\n",
    "p = np.zeros(numtowns)\n",
    "\n",
    "totu = u.sum()\n",
    "\n",
    "for j in range(len(A_subsets)):\n",
    "  for i in range(numtowns):\n",
    "    if i in A_subsets[j] and u[i] >= a[j]-T and a[j] > T:\n",
    "      X[i,j]=1\n",
    "    # Comment out the following if statement if you iterate over all subsets \n",
    "    # instead of iterating over subsets where one town always votes in the affirmative\n",
    "    if i not in A_subsets[j] and u[i] >= totu-a[j]-T and totu-a[j] > T:\n",
    "      X[i,j]=1\n",
    "\n",
    "\n",
    "for i in range(numtowns):\n",
    "    p[i]=np.sum(X[i])/np.sum(X)\n",
    "\n",
    "print(np.sum(X))"
   ]
  },
  {
   "cell_type": "code",
   "execution_count": 36,
   "metadata": {},
   "outputs": [
    {
     "name": "stdout",
     "output_type": "stream",
     "text": [
      "m= [0.1137052  0.06807577 0.03801634 0.16768447 0.02396896 0.03416886\n",
      " 0.06804303 0.12292277 0.07288921 0.08744413 0.04412318 0.01186987\n",
      " 0.01252476 0.02591725 0.03752517 0.01894268 0.05217833]\n",
      "u= [568 352 198 785 126 179 352 610 375 447 230  62  67 136 196 101 270]\n",
      "p= [0.11359153 0.06807848 0.03797625 0.16770361 0.02398175 0.03424438\n",
      " 0.06807848 0.12270763 0.07284448 0.0875359  0.04409112 0.01189814\n",
      " 0.01253885 0.02597133 0.03752663 0.01906962 0.05216184]\n",
      "p_report= [0.1136 0.0681 0.038  0.1677 0.024  0.0342 0.0681 0.1227 0.0728 0.0875\n",
      " 0.0441 0.0119 0.0125 0.026  0.0375 0.0191 0.0522]\n",
      "diff = [-0.0001  0.     -0.      0.      0.      0.0001  0.     -0.0002 -0.\n",
      "  0.0001 -0.      0.      0.      0.0001  0.      0.0001 -0.    ]\n",
      "L1 for diff= 0.0009243787967429234\n",
      "range for diff= 0.00034208251077029114\n"
     ]
    }
   ],
   "source": [
    "print('m=',m)\n",
    "print('u=',u)\n",
    "print('p=',p)\n",
    "print('p_report=',p_report)\n",
    "\n",
    "diff = (p-m)\n",
    "\n",
    "#ratiodiffpercents = np.zeros(numtowns)\n",
    "#for i in range(numtowns):\n",
    "#  ratiodiffpercents[i] = 100*diff[i]/m[i]\n",
    "\n",
    "print('diff =', np.around(diff,4))\n",
    "#print('ratiodiffpercents =', np.around(ratiodiffpercents,4))\n",
    "\n",
    "l1_norm_diff = np.linalg.norm(diff, ord=1)\n",
    "#l1_norm_ratiodiffpercents = np.linalg.norm(ratiodiffpercents, ord=1)\n",
    "\n",
    "print( 'L1 for diff=',l1_norm_diff)\n",
    "#print( 'L1 for ratiodiffpercents=',l1_norm_ratiodiffpercents)\n",
    "\n",
    "range_diff = np.max(diff) - np.min(diff)\n",
    "#range_ratiodiffpercents = np.max(diff) - np.min(ratiodiffpercents)\n",
    "\n",
    "\n",
    "print('range for diff=',range_diff)\n",
    "#print('range for ratiodiffpercents=',range_ratiodiffpercents"
   ]
  },
  {
   "cell_type": "code",
   "execution_count": null,
   "metadata": {},
   "outputs": [],
   "source": []
  },
  {
   "cell_type": "code",
   "execution_count": null,
   "metadata": {},
   "outputs": [],
   "source": []
  }
 ],
 "metadata": {
  "kernelspec": {
   "display_name": "Python 3",
   "language": "python",
   "name": "python3"
  },
  "language_info": {
   "codemirror_mode": {
    "name": "ipython",
    "version": 3
   },
   "file_extension": ".py",
   "mimetype": "text/x-python",
   "name": "python",
   "nbconvert_exporter": "python",
   "pygments_lexer": "ipython3",
   "version": "3.12.6"
  }
 },
 "nbformat": 4,
 "nbformat_minor": 2
}
